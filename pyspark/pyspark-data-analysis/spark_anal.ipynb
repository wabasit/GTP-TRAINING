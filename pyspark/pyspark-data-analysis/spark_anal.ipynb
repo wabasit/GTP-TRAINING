# Updated notebook content with revised phrasing and structure

{
 "cells": [
  {
   "cell_type": "markdown",
   "metadata": {},
   "source": [
    "# PySpark-Based Movie Dataset Exploration\n",
    "\n",
    "This notebook provides an in-depth exploration of movie information retrieved from the TMDB API using PySpark.\n",
    "\n",
    "Core operations are handled via helper functions stored in `utility_functions.py`. These cover everything from retrieving and cleaning data to computing KPIs, filtering with custom conditions, examining franchises versus standalone releases, reviewing directors and franchises, and visualizing trends."
   ]
  },
  {
   "cell_type": "code",
   "execution_count": null,
   "metadata": {},
   "outputs": [],
   "source": [
    "# Load essential packages\n",
    "import pandas as pd\n",
    "import matplotlib.pyplot as plt\n",
    "from pyspark.sql import SparkSession\n",
    "\n",
    "# Create Spark session\n",
    "spark = SparkSession.builder \\\n",
    "    .appName(\"MovieDataInsight\") \\\n",
    "    .config(\"spark.driver.memory\", \"4g\") \\\n",
    "    .getOrCreate()"
   ]
  },
  {
   "cell_type": "code",
   "execution_count": null,
   "metadata": {},
   "outputs": [],
   "source": [
    "from data_extraction import fetch_apis"
    "from utility_functions import *"
   ]
  },
  {
   "cell_type": "markdown",
   "metadata": {},
   "source": [
    "## Collecting Raw Movie Records\n",
    "\n",
    "- **Movie ID setup:** List of TMDB movie identifiers prepared for data retrieval.\n",
    "\n",
    "- **Apply schema:** `SCHEMA()` outlines the structure of the data table.\n",
    "\n",
    "- **Pull metadata:** Data for each movie is collected using the TMDB API via `fetch_apis()`.\n",
    "\n",
    "- **Initial overview:** Output includes schema inspection and a sample preview."
   ]
  },
  {
   "cell_type": "code",
   "execution_count": null,
   "metadata": {},
   "outputs": [],
   "source": [
    "movie_ids = [0, 299534, 19995, 140607, 299536, 597, 135397,\n",
    "             420818, 24428, 168259, 99861, 284054, 12445,\n",
    "             181808, 330457, 351286, 109445, 321612, 260513]\n",
    "\n",
    "schema = SCHEMA()\n",
    "\n",
    "raw_data = fetch_apis(movie_ids, schema)\n",
    "\n",
    "print(\"Raw Dataset Structure:\")\n",
    "raw_data.printSchema()\n",
    "\n",
    "print(\"\nInitial Sample:\")\n",
    "raw_data.show(5, truncate=False)"
   ]
  },
  {
   "cell_type": "markdown",
   "metadata": {},
   "source": [
    "## Refining Movie Dataset\n",
    "\n",
    "- **Data transformation:** `clean_data()` reformats columns, handles JSON fields, and casts types.\n",
    "\n",
    "- **Data sanitization:** Zeros in key metrics like budget or revenue are replaced with nulls.\n",
    "\n",
    "- **Derived fields:** Profit and ROI columns are computed.\n",
    "\n",
    "- **Field consistency:** Formats such as genres and countries are standardized.\n",
    "\n",
    "- **View cleaned records:** Review structure and sample entries."
   ]
  },
  {
   "cell_type": "code",
   "execution_count": null,
   "metadata": {},
   "outputs": [],
   "source": [
    "cleaned_data = clean_data(raw_data)\n",
    "\n",
    "cleaned_data.cache()\n",
    "\n",
    "print(\"Cleaned Data Schema:\")\n",
    "cleaned_data.printSchema()\n",
    "\n",
    "print(\"\nPreview of Cleaned Dataset:\")\n",
    "cleaned_data.show(5, truncate=False)"
   ]
  }
 ]
}

