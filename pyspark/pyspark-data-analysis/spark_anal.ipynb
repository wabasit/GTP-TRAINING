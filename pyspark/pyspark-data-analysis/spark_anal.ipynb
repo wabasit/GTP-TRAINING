{
 "cells": [
  {
   "cell_type": "markdown",
   "metadata": {},
   "source": [
    "# PySpark-Based Movie Dataset Exploration\n",
    "\n",
    "This notebook provides an in-depth exploration of movie information retrieved from the TMDB API using PySpark.\n",
    "\n",
    "Core operations are handled via helper functions stored in `utility_functions.py`. These cover everything from retrieving and cleaning data to computing KPIs, filtering with custom conditions, examining franchises versus standalone releases, reviewing directors and franchises, and visualizing trends."
   ]
  },
  {
   "cell_type": "code",
   "execution_count": null,
   "metadata": {},
   "outputs": [],
   "source": [
    "# Load essential packages\n",
    "import pandas as pd\n",
    "import matplotlib.pyplot as plt\n",
    "from pyspark.sql import SparkSession\n",
    "\n",
    "# Create Spark session\n",
    "spark = SparkSession.builder \\\n",
    "    .appName(\"MovieDataInsight\") \\\n",
    "    .config(\"spark.driver.memory\", \"4g\") \\\n",
    "    .getOrCreate()"
   ]
  },
  {
   "cell_type": "code",
   "execution_count": null,
   "metadata": {},
   "outputs": [],
   "source": [
    "from data_extraction import fetch_apis\n",
    "from utility_functions import *"
   ]
  },
  {
   "cell_type": "markdown",
   "metadata": {},
   "source": [
    "## Collecting Raw Movie Records\n",
    "\n",
    "- **Movie ID setup:** List of TMDB movie identifiers prepared for data retrieval.\n",
    "\n",
    "- **Apply schema:** `SCHEMA()` outlines the structure of the data table.\n",
    "\n",
    "- **Pull metadata:** Data for each movie is collected using the TMDB API via `fetch_apis()`.\n",
    "\n",
    "- **Initial overview:** Output includes schema inspection and a sample preview."
   ]
  },
  {
   "cell_type": "code",
   "execution_count": null,
   "metadata": {},
   "outputs": [],
   "source": [
    "movie_ids = [0, 299534, 19995, 140607, 299536, 597, 135397,\n",
    "             420818, 24428, 168259, 99861, 284054, 12445,\n",
    "             181808, 330457, 351286, 109445, 321612, 260513]\n",
    "\n",
    "schema = SCHEMA()\n",
    "\n",
    "raw_data = fetch_apis(movie_ids, schema)\n",
    "\n",
    "print(\"Raw Dataset Structure:\")\n",
    "raw_data.printSchema()\n",
    "\n",
    "print(\"Initial Sample:\")\n",
    "raw_data.show(5, truncate=False)"
   ]
  },
  {
   "cell_type": "markdown",
   "metadata": {},
   "source": [
    "## Refining Movie Dataset\n",
    "\n",
    "- **Data transformation:** `clean_data()` reformats columns, handles JSON fields, and casts types.\n",
    "\n",
    "- **Data sanitization:** Zeros in key metrics like budget or revenue are replaced with nulls.\n",
    "\n",
    "- **Derived fields:** Profit and ROI columns are computed.\n",
    "\n",
    "- **Field consistency:** Formats such as genres and countries are standardized.\n",
    "\n",
    "- **View cleaned records:** Review structure and sample entries."
   ]
  },
  {
   "cell_type": "code",
   "execution_count": null,
   "metadata": {},
   "outputs": [],
   "source": [
    "cleaned_data = clean_data(raw_data)\n",
    "\n",
    "cleaned_data.cache()\n",
    "\n",
    "print(\"Cleaned Data Schema:\")\n",
    "cleaned_data.printSchema()\n",
    "\n",
    "print(\"Preview of Cleaned Dataset:\")\n",
    "cleaned_data.show(5, truncate=False)"
   ]
  },
  {
   "cell_type": "markdown",
   "id": "3a112096",
   "metadata": {},
   "source": [
    "## Calculate Financial Metrics\n",
    "This function calculates financial metrics for each movie:\n",
    "\n",
    "- Converts budget and revenue to million USD.\n",
    "\n",
    "- Computes profit_musd as revenue minus budget.\n",
    "\n",
    "- Computes ROI (Return on Investment) as revenue divided by budget, handling division-by-zero safely."
   ]
  },
  {
   "cell_type": "code",
   "execution_count": null,
   "id": "ce84f854",
   "metadata": {},
   "outputs": [],
   "source": [
    "print(\"Financial Metrics: \")\n",
    "financial_metrics = calculate_financial_metrics(clean_data).select()\n",
    "financial_metrics.show(truncate=False)"
   ]
  },
  {
   "cell_type": "markdown",
   "id": "22f734a8",
   "metadata": {},
   "source": [
    "## Extract Director\n",
    "This function extracts the director's name from the nested credits.crew array for each movie and drops the full credits column to avoid unnecessary data retention."
   ]
  },
  {
   "cell_type": "code",
   "execution_count": null,
   "id": "3ac0a6fe",
   "metadata": {},
   "outputs": [],
   "source": [
    "print(\"Extract Directors:\")\n",
    "directors = extract_director(cleaned_data)"
   ]
  },
  {
   "cell_type": "markdown",
   "id": "bd1b9bc8",
   "metadata": {},
   "source": [
    "## Rank Movies\n",
    "Ranks movies based on a specified column (e.g., revenue_musd, vote_average) while optionally applying a minimum vote count filter and limiting the result to the top N movies."
   ]
  },
  {
   "cell_type": "code",
   "execution_count": null,
   "id": "8f0a2511",
   "metadata": {},
   "outputs": [],
   "source": [
    "print(\"Rank movies based on a column: \")\n",
    "ranked_movies = rank_movies(cleaned_data, \"revenue\")\n",
    "ranked_movies.show(5, truncate=False)"
   ]
  },
  {
   "cell_type": "markdown",
   "id": "66218559",
   "metadata": {},
   "source": [
    "## Get Top Directors\n",
    "**Aggregates key performance indicators for directors:**\n",
    "\n",
    "- Total number of movies directed.\n",
    "\n",
    "- Total revenue generated.\n",
    "\n",
    "- Average rating across their movies.\n",
    "- Results are sorted by total revenue."
   ]
  },
  {
   "cell_type": "code",
   "execution_count": null,
   "id": "1cf7d0b9",
   "metadata": {},
   "outputs": [],
   "source": [
    "print(\"Top Directors:\")\n",
    "top_directors = get_top_directors(cleaned_data)"
   ]
  },
  {
   "cell_type": "markdown",
   "id": "a067bd23",
   "metadata": {},
   "source": [
    "## Get Top Franchises\n",
    "**Groups movies by franchise (belongs_to_collection) and calculates:**\n",
    "\n",
    "- Total movie count.\n",
    "\n",
    "- Total and average budget/revenue.\n",
    "\n",
    "- Mean rating.\n",
    "- Returns the top N highest grossing franchises."
   ]
  },
  {
   "cell_type": "code",
   "execution_count": null,
   "id": "6c1158c3",
   "metadata": {},
   "outputs": [],
   "source": [
    "print(\"Get top franchises:\")\n",
    "top_franchises = get_top_franchises(cleaned_data)"
   ]
  },
  {
   "cell_type": "markdown",
   "id": "16d08d4c",
   "metadata": {},
   "source": [
    "## Compare Franchise vs Standalone\n",
    "**Compares performance between franchise movies and standalone titles using key metrics like:**\n",
    "\n",
    "- Mean revenue, ROI, budget, popularity, and rating.\n",
    "- A new boolean column is_franchise is added for easy grouping."
   ]
  },
  {
   "cell_type": "code",
   "execution_count": null,
   "id": "784b60d2",
   "metadata": {},
   "outputs": [],
   "source": [
    "print(\"Comparing Franchises with Standalone:\")\n",
    "franchise_comparison = compare_franchise_vs_standalone(cleaned_data)\n",
    "franchise_comparison.show(5, truncate=False)"
   ]
  },
  {
   "cell_type": "markdown",
   "id": "6f6ca532",
   "metadata": {},
   "source": [
    "## Filter Released Movies\n",
    "Keeps only movies with a status of Released, then drops the status column as it's no longer needed."
   ]
  },
  {
   "cell_type": "code",
   "execution_count": null,
   "id": "0004d175",
   "metadata": {},
   "outputs": [],
   "source": [
    "print(\"Movies Released: \")\n",
    "movies_released = filter_released_movies(cleaned_data)\n",
    "movies_released.show(5, truncate=False)"
   ]
  },
  {
   "cell_type": "markdown",
   "id": "35f119ea",
   "metadata": {},
   "source": [
    "## Filter Valid Movies\n",
    "**Cleans the dataset by:**\n",
    "\n",
    "- Removing duplicates and null id/title entries.\n",
    "\n",
    "- Ensuring each movie has at least 10 non-null attributes, helping maintain high-quality records."
   ]
  },
  {
   "cell_type": "code",
   "execution_count": null,
   "id": "9f324095",
   "metadata": {},
   "outputs": [],
   "source": [
    "print(\"Valid Movies: \")\n",
    "valid_movies = filter_valid_movies(cleaned_data)\n",
    "valid_movies.show(5, truncate=False)"
   ]
  },
  {
   "cell_type": "markdown",
   "id": "d93bfd02",
   "metadata": {},
   "source": [
    "## Plot Movie Analysis\n",
    "**Generates multiple insightful visualizations:**\n",
    "\n",
    "- Revenue vs Budget: Shows correlation between investment and earnings.\n",
    "\n",
    "- ROI Distribution by Genre: Box plot to analyze profitability by genre.\n",
    "\n",
    "- Popularity vs Rating: Correlation between user ratings and social popularity.\n",
    "\n",
    "- Yearly Trends: Tracks average budget and revenue trends over the years.\n",
    "\n",
    "- Franchise vs Standalone: Bar chart comparing financial and audience metrics between franchises and standalone movies."
   ]
  },
  {
   "cell_type": "code",
   "execution_count": null,
   "id": "fae60621",
   "metadata": {},
   "outputs": [],
   "source": [
    "print(\"Movie Analysis Graphs:\")\n",
    "graphs = plot_movie_analysis(cleaned_data)\n",
    "graphs.show(5, truncate=False)"
   ]
  }
 ],
 "metadata": {
  "kernelspec": {
   "display_name": "Python 3",
   "language": "python",
   "name": "python3"
  },
  "language_info": {
   "codemirror_mode": {
    "name": "ipython",
    "version": 3
   },
   "file_extension": ".py",
   "mimetype": "text/x-python",
   "name": "python",
   "nbconvert_exporter": "python",
   "pygments_lexer": "ipython3",
   "version": "3.12.1"
  }
 },
 "nbformat": 4,
 "nbformat_minor": 5
}
